{
  "cells": [
    {
      "cell_type": "markdown",
      "metadata": {
        "id": "view-in-github",
        "colab_type": "text"
      },
      "source": [
        "<a href=\"https://colab.research.google.com/github/RaduRaresGeorge/RaduRaresGeorge/blob/main/Radu_RaresGeorge_1_variables_operators.ipynb\" target=\"_parent\"><img src=\"https://colab.research.google.com/assets/colab-badge.svg\" alt=\"Open In Colab\"/></a>"
      ]
    },
    {
      "cell_type": "markdown",
      "metadata": {
        "id": "dS9J4F8y-L_W"
      },
      "source": [
        "## Variables"
      ]
    },
    {
      "cell_type": "markdown",
      "metadata": {
        "id": "Txse_Cgb-L_Z"
      },
      "source": [
        "**Variables are used to store data in a program.**"
      ]
    },
    {
      "cell_type": "markdown",
      "metadata": {
        "id": "W0wWEdTF-L_a"
      },
      "source": [
        "*Consider the following analogy: you have a water source and you want to collect some water. If you don't have a placeholder (mug, bucket, bottle,...), you will not be able to collect it as the water will drain through your fingers.*\n"
      ]
    },
    {
      "cell_type": "markdown",
      "metadata": {
        "id": "WFFjJj6s-L_a"
      },
      "source": [
        "\n",
        "### Naming variables\n",
        "\n",
        "In Python, variables must have valid names. Here are some rules for naming variables:\n",
        "   - Variable names can contain letters (a-z, A-Z), digits (0-9), and underscores (_).\n",
        "   - Variable names cannot start with a digit.\n",
        "   - Variable names are case-sensitive, meaning myVar and myvar are considered different variables.\n",
        "   - It's recommended to use descriptive names that reflect the purpose of the variable.\n",
        "   \n",
        "   Here are the [rules](https://www.w3schools.com/python/gloss_python_variable_names.asp).\n",
        "    \n"
      ]
    },
    {
      "cell_type": "markdown",
      "metadata": {
        "id": "z8HXdyJK-L_a"
      },
      "source": [
        "### Assigning Values\n",
        "\n",
        "To assign a value to a variable, you use the assignment operator (=). Here's an example:"
      ]
    },
    {
      "cell_type": "code",
      "execution_count": null,
      "metadata": {
        "id": "5gLeiMoK-L_b"
      },
      "outputs": [],
      "source": [
        "age = 25"
      ]
    },
    {
      "cell_type": "markdown",
      "metadata": {
        "id": "iERA2Ogz-L_c"
      },
      "source": [
        "In the above example, we assigned the value 25 to the variable `age`. Now, we can use the variable age to refer to that value throughout the program."
      ]
    },
    {
      "cell_type": "markdown",
      "metadata": {
        "id": "l44E5UK3-L_c"
      },
      "source": [
        "### Variable Reassignment\n",
        "\n",
        "Variables in Python can be reassigned with new values. You can change the value of a variable simply by assigning a new value to it. For example:"
      ]
    },
    {
      "cell_type": "code",
      "execution_count": null,
      "metadata": {
        "id": "qVsnYzdO-L_c"
      },
      "outputs": [],
      "source": [
        "age = 25\n",
        "age = 30"
      ]
    },
    {
      "cell_type": "markdown",
      "metadata": {
        "id": "is14vGHI-L_d"
      },
      "source": [
        "In the above code, we initially assigned the value 25 to the variable `age`. Then, we reassigned it with the value 30. Now, the variable `age` holds the new value."
      ]
    },
    {
      "cell_type": "markdown",
      "metadata": {
        "id": "LZHvlmeu-L_d"
      },
      "source": [
        "### Looking at the value of a variable"
      ]
    },
    {
      "cell_type": "markdown",
      "metadata": {
        "id": "28ODi9IK-L_d"
      },
      "source": [
        "In Jupyter Notebook, when you write the name of a variable (`age`for example) in a cell and run the cell, it automatically displays the value of `age` on the screen. This is because Jupyter Notebook, by default, **displays the output of the last line of code in a cell**."
      ]
    },
    {
      "cell_type": "code",
      "execution_count": null,
      "metadata": {
        "id": "4D80efQV-L_d"
      },
      "outputs": [],
      "source": [
        "# This is a comment. You can write comments in code cells with #, such as this one."
      ]
    },
    {
      "cell_type": "code",
      "execution_count": null,
      "metadata": {
        "id": "6x_FBnCv-L_d",
        "outputId": "8921d534-9295-4d59-a203-1c1e3c80c659"
      },
      "outputs": [
        {
          "data": {
            "text/plain": [
              "40"
            ]
          },
          "execution_count": 162,
          "metadata": {},
          "output_type": "execute_result"
        }
      ],
      "source": [
        "new_age = 40 # Let`s declare a new variable\n",
        "new_age # Will show the value of the variable on the screen"
      ]
    },
    {
      "cell_type": "code",
      "execution_count": null,
      "metadata": {
        "id": "G7FzFNZV-L_e",
        "outputId": "3f5c90cc-cf7f-40f3-88c8-1c7d74def5e5"
      },
      "outputs": [
        {
          "data": {
            "text/plain": [
              "30"
            ]
          },
          "execution_count": 163,
          "metadata": {},
          "output_type": "execute_result"
        }
      ],
      "source": [
        "age # Will show the value of the variable on the screen"
      ]
    },
    {
      "cell_type": "code",
      "execution_count": null,
      "metadata": {
        "id": "WcLT6D00-L_e",
        "outputId": "e1b7d481-db54-41ca-a5fd-22e0ee9e7a1b"
      },
      "outputs": [
        {
          "data": {
            "text/plain": [
              "40"
            ]
          },
          "execution_count": 164,
          "metadata": {},
          "output_type": "execute_result"
        }
      ],
      "source": [
        "new_age # Will show the value of the variable on the screen"
      ]
    },
    {
      "cell_type": "code",
      "execution_count": null,
      "metadata": {
        "id": "3wAYQLf2-L_e",
        "outputId": "ae109caa-4734-46cd-d16d-042fb3c49610"
      },
      "outputs": [
        {
          "data": {
            "text/plain": [
              "40"
            ]
          },
          "execution_count": 165,
          "metadata": {},
          "output_type": "execute_result"
        }
      ],
      "source": [
        "age\n",
        "new_age # In this case, will show the value of the last line of code on the screen (variable new_age)"
      ]
    },
    {
      "cell_type": "markdown",
      "metadata": {
        "id": "d1b5hDju-L_e"
      },
      "source": [
        "In Python and in Jupyter Notebook, you can use the `print()` function to display the value of a variable."
      ]
    },
    {
      "cell_type": "code",
      "execution_count": null,
      "metadata": {
        "id": "WC6EZICw-L_e",
        "outputId": "fe210082-0bb5-4e35-e541-58eda8369923"
      },
      "outputs": [
        {
          "name": "stdout",
          "output_type": "stream",
          "text": [
            "40\n"
          ]
        }
      ],
      "source": [
        "print(new_age)"
      ]
    },
    {
      "cell_type": "markdown",
      "metadata": {
        "id": "4tBE7qr2-L_e"
      },
      "source": [
        "The `print()` function is a built-in function in Python that allows us to output information. In this case, we are printing the value of the variable `new_age`.\n",
        "\n",
        "So, when you run this code, `print(new_age)`it will display 40 as the output. The value 40 is stored in the variable new_age, and the `print()` function helps us see that value on the screen."
      ]
    },
    {
      "cell_type": "markdown",
      "metadata": {
        "id": "lOLGm7Ot-L_e"
      },
      "source": [
        "Both methods achieve the same result of showing the value of new_age on the screen.\n",
        "\n",
        "The advantage of using `print()` is that you can display multiple values or combine them with other text or variables. However, when you want to quickly check the value of a variable or see the result of a single expression, writing the variable name or expression in a cell without using print() is a convenient and concise way to display the output. We will look at this later on the course."
      ]
    },
    {
      "cell_type": "markdown",
      "metadata": {
        "id": "XYIsvtoY-L_f"
      },
      "source": [
        "### Variable Types\n",
        "\n",
        "Variables in Python can hold different types of data.\n",
        "\n",
        "*Python is a dynamically-typed language, meaning you don't need to explicitly specify the variable type. The type of a variable is determined based on the value assigned to it.*"
      ]
    },
    {
      "cell_type": "code",
      "execution_count": null,
      "metadata": {
        "id": "7Iq9wtmE-L_f"
      },
      "outputs": [],
      "source": [
        "x = 10\n",
        "y = 20.5\n",
        "z = 'hello'"
      ]
    },
    {
      "cell_type": "code",
      "execution_count": null,
      "metadata": {
        "id": "PaU3KyNR-L_f",
        "outputId": "11fdf40f-37cd-4fa3-8028-fc79723cd4a4"
      },
      "outputs": [
        {
          "name": "stdout",
          "output_type": "stream",
          "text": [
            "10\n"
          ]
        }
      ],
      "source": [
        "print(x)"
      ]
    },
    {
      "cell_type": "markdown",
      "metadata": {
        "id": "xJ192OQr-L_f"
      },
      "source": [
        "In the code x = 10, we are assigning a value to a variable. We are creating a variable called x and assigning it the value 10.\n",
        "\n",
        "To display the value of x, we use the `print()` function. When you run this code, `print(x)` will display 10 as the output. The value 10 is stored in the variable x, and the `print()` function helps us see that value on the screen."
      ]
    },
    {
      "cell_type": "code",
      "execution_count": null,
      "metadata": {
        "id": "EiYdcKgG-L_f",
        "outputId": "fe984d9d-6120-4da9-a6f5-08dda43c24f6"
      },
      "outputs": [
        {
          "name": "stdout",
          "output_type": "stream",
          "text": [
            "20.5\n"
          ]
        }
      ],
      "source": [
        "print(y)"
      ]
    },
    {
      "cell_type": "code",
      "execution_count": null,
      "metadata": {
        "id": "icdnjNEG-L_f",
        "outputId": "77e26462-14ee-400c-f749-8ee31b158569"
      },
      "outputs": [
        {
          "name": "stdout",
          "output_type": "stream",
          "text": [
            "hello\n"
          ]
        }
      ],
      "source": [
        "print(z)"
      ]
    },
    {
      "cell_type": "markdown",
      "metadata": {
        "id": "cJU_iobt-L_f"
      },
      "source": [
        "#### Observation\n",
        "\n",
        "In programming, a function is like a pre-written instruction that performs a specific task. It's like a special command that you can use in your code. These functions are either created by other programmers or provided by the programming language itself.\n",
        "\n",
        "The print() function is one such built-in function in Python. It is ready to use without requiring any additional setup. This function allows us to display information on the screen.\n",
        "\n",
        "In Python, functions are names followed by opening and closing parentheses.\n",
        "\n",
        "*(FYI so are methods. We won't go into detail about methods in this lesson, but we will cover them  during the bootcamp.)*"
      ]
    },
    {
      "cell_type": "markdown",
      "metadata": {
        "id": "YfjbMu6y-L_f"
      },
      "source": [
        "## Data Types"
      ]
    },
    {
      "cell_type": "markdown",
      "metadata": {
        "id": "VkqjFQ0m-L_f"
      },
      "source": [
        "In Python, data has different types that define the kind of information it represents. Understanding data types is essential for performing operations and manipulating data. Let's explore the common data types in Python:\n",
        "\n",
        "- **Integer**: represents whole numbers, i.e. positive or negative integer values. _(eg. 10, 3, -5, 0)_\n",
        "- **Float**: represents decimal numbers. _(eg. 20.2, 100.2403, -5.50)_\n",
        "- **String**: represents text _(e.g., \"Hello, World!\", \"Python\")_. A string is considered a group of characters. It can be encapsulated in a single quote or double quotes _(eg. \"hello\", \"Ironhack\", \"Teacher\")_\n",
        "- **Boolean**: represents either True or False\n",
        "\n",
        "It's important to understand the data type of a variable because it determines how the variable behaves and what operations can be performed on it."
      ]
    },
    {
      "cell_type": "markdown",
      "metadata": {
        "id": "FhQfLJq2-L_f"
      },
      "source": [
        "To check our data types we will use the function `type()`. *This is a function, such as  print(), but performs a different task.*"
      ]
    },
    {
      "cell_type": "markdown",
      "metadata": {
        "id": "kPyQKUep-L_f"
      },
      "source": [
        "### Integer"
      ]
    },
    {
      "cell_type": "code",
      "execution_count": null,
      "metadata": {
        "id": "cAM-TWIb-L_g",
        "outputId": "486cdca7-b304-4502-ae96-6a9644e76445"
      },
      "outputs": [
        {
          "name": "stdout",
          "output_type": "stream",
          "text": [
            "10\n"
          ]
        }
      ],
      "source": [
        "x = 10\n",
        "print(x)"
      ]
    },
    {
      "cell_type": "code",
      "execution_count": null,
      "metadata": {
        "id": "DTiY1IA--L_g",
        "outputId": "2a8c077c-a24a-4ca1-e63c-73bace5b2c1a"
      },
      "outputs": [
        {
          "data": {
            "text/plain": [
              "int"
            ]
          },
          "execution_count": 172,
          "metadata": {},
          "output_type": "execute_result"
        }
      ],
      "source": [
        "type(x)"
      ]
    },
    {
      "cell_type": "markdown",
      "metadata": {
        "id": "qZrSW4Re-L_g"
      },
      "source": [
        "As you can see from the example above, `print` and `type` are followed by `()` and they are functions. They take an argument (x) and the return another value. `type` for example returns the type of the argument (x)."
      ]
    },
    {
      "cell_type": "markdown",
      "metadata": {
        "id": "pfXBjd0--L_g"
      },
      "source": [
        "### Float"
      ]
    },
    {
      "cell_type": "code",
      "execution_count": null,
      "metadata": {
        "id": "Y8Ft8dF5-L_g",
        "outputId": "642996f8-0b24-4bca-db71-4eb9b9a60bc0"
      },
      "outputs": [
        {
          "name": "stdout",
          "output_type": "stream",
          "text": [
            "20.5\n"
          ]
        },
        {
          "data": {
            "text/plain": [
              "float"
            ]
          },
          "execution_count": 173,
          "metadata": {},
          "output_type": "execute_result"
        }
      ],
      "source": [
        "y = 20.5\n",
        "print(y)\n",
        "type(y)"
      ]
    },
    {
      "cell_type": "markdown",
      "metadata": {
        "id": "AaRQpWMf-L_g"
      },
      "source": [
        "### String\n",
        "String can  be encapsulated in single quotes or double quotes."
      ]
    },
    {
      "cell_type": "code",
      "execution_count": null,
      "metadata": {
        "id": "rRnBGBUQ-L_g",
        "outputId": "7f16c781-2cf2-4792-bcfd-8c3a98cf06f2"
      },
      "outputs": [
        {
          "name": "stdout",
          "output_type": "stream",
          "text": [
            "hello\n"
          ]
        },
        {
          "data": {
            "text/plain": [
              "str"
            ]
          },
          "execution_count": 174,
          "metadata": {},
          "output_type": "execute_result"
        }
      ],
      "source": [
        "z = \"hello\"\n",
        "print(z)\n",
        "type(z)"
      ]
    },
    {
      "cell_type": "code",
      "execution_count": null,
      "metadata": {
        "id": "H6JvHXhX-L_m",
        "outputId": "717d5abb-e8c2-47a0-ca25-2fa42c0b773d"
      },
      "outputs": [
        {
          "name": "stdout",
          "output_type": "stream",
          "text": [
            "hello there\n"
          ]
        },
        {
          "data": {
            "text/plain": [
              "str"
            ]
          },
          "execution_count": 175,
          "metadata": {},
          "output_type": "execute_result"
        }
      ],
      "source": [
        "x = 'hello there'\n",
        "print(x)\n",
        "type(x)"
      ]
    },
    {
      "cell_type": "markdown",
      "metadata": {
        "id": "Ktnie1HY-L_m"
      },
      "source": [
        "**Note:** As demonstrated in the examples above, strings can be defined using either double `\" \"` or single quotes `' '`. You may be wondering about the appropriate usage of double quotes versus single quotes. In general, the choice depends on the content of your string. If your string includes single quotes, such as in the case of *I couldn't make it*, then it is necessary to use double quotes. However, if your string does not contain single quotes, you can confidently use single quotes."
      ]
    },
    {
      "cell_type": "markdown",
      "metadata": {
        "id": "DEXH3tkP-L_m"
      },
      "source": [
        "**Note:** In the previous examples, the strings were of small length, consisting of a single line. However, what if we need to define a string that spans multiple lines? In such cases, we employ three single or double quotes to delimit the string."
      ]
    },
    {
      "cell_type": "code",
      "execution_count": null,
      "metadata": {
        "id": "uCVi04BJ-L_m",
        "outputId": "e6ea99c0-50b2-4990-c110-fb8f66f83f97"
      },
      "outputs": [
        {
          "name": "stdout",
          "output_type": "stream",
          "text": [
            "Float - stores decimal numbers. By default, Python interprets any number that includes a decimal point as a double precision floating point number. Like some other programming languages, in Python there is not much difference between float and double except that float is in-built in Python, while double is imported from a library called NumPy.\n",
            "We will talk about the libraries in detail later.\n",
            "Hello\n",
            "There!\n"
          ]
        },
        {
          "data": {
            "text/plain": [
              "str"
            ]
          },
          "execution_count": 176,
          "metadata": {},
          "output_type": "execute_result"
        }
      ],
      "source": [
        "# Multiple line string\n",
        "x = '''Float - stores decimal numbers. By default, Python interprets any number that includes a decimal point as a double precision floating point number. Like some other programming languages, in Python there is not much difference between float and double except that float is in-built in Python, while double is imported from a library called NumPy.\n",
        "We will talk about the libraries in detail later.\n",
        "Hello\n",
        "There!'''\n",
        "print(x)\n",
        "type(x)"
      ]
    },
    {
      "cell_type": "markdown",
      "metadata": {
        "id": "gLnVa3S9-L_m"
      },
      "source": [
        "### Boolean"
      ]
    },
    {
      "cell_type": "code",
      "execution_count": null,
      "metadata": {
        "id": "ugj6b2CF-L_m",
        "outputId": "a7556546-66eb-4119-f453-2d1807d68820"
      },
      "outputs": [
        {
          "name": "stdout",
          "output_type": "stream",
          "text": [
            "True\n"
          ]
        },
        {
          "data": {
            "text/plain": [
              "bool"
            ]
          },
          "execution_count": 177,
          "metadata": {},
          "output_type": "execute_result"
        }
      ],
      "source": [
        "x = True # This is highlighted in green because it is a keyword\n",
        "print(x)\n",
        "type(x)"
      ]
    },
    {
      "cell_type": "code",
      "execution_count": null,
      "metadata": {
        "id": "i5lIRQFq-L_m",
        "outputId": "62845590-2ffb-4fdc-8904-6e6247312516"
      },
      "outputs": [
        {
          "name": "stdout",
          "output_type": "stream",
          "text": [
            "False\n"
          ]
        },
        {
          "data": {
            "text/plain": [
              "bool"
            ]
          },
          "execution_count": 178,
          "metadata": {},
          "output_type": "execute_result"
        }
      ],
      "source": [
        "x = False\n",
        "print(x)\n",
        "type(x)"
      ]
    },
    {
      "cell_type": "code",
      "execution_count": null,
      "metadata": {
        "id": "K2hY4ZS_-L_m",
        "outputId": "b65163fa-fa95-4392-c6b8-691e5327925f"
      },
      "outputs": [
        {
          "name": "stdout",
          "output_type": "stream",
          "text": [
            "True\n"
          ]
        },
        {
          "data": {
            "text/plain": [
              "str"
            ]
          },
          "execution_count": 179,
          "metadata": {},
          "output_type": "execute_result"
        }
      ],
      "source": [
        "x = \"True\" # In this case it is a string because we encapsulated it in double quotes\n",
        "print(x)\n",
        "type(x)"
      ]
    },
    {
      "cell_type": "markdown",
      "metadata": {
        "id": "8EkYQKgB-L_m"
      },
      "source": [
        "#### Observation"
      ]
    },
    {
      "cell_type": "markdown",
      "metadata": {
        "id": "u6TQrKuv-L_m"
      },
      "source": [
        "In Python, Boolean values (True and False) are actually treated as a subclass of integers. This means that `True` is equivalent to the integer value 1, and `False` is equivalent to the integer value 0.\n",
        "\n",
        "This means that you can perform numeric operations on Boolean values, and they will be implicitly converted to their corresponding integer values."
      ]
    },
    {
      "cell_type": "code",
      "execution_count": null,
      "metadata": {
        "id": "jQP2PMlY-L_m",
        "outputId": "40595ddd-1a68-4ab0-8fad-9d9a2de5581a"
      },
      "outputs": [
        {
          "name": "stdout",
          "output_type": "stream",
          "text": [
            "2\n",
            "1\n"
          ]
        }
      ],
      "source": [
        "bool_true = True\n",
        "bool_false = False\n",
        "\n",
        "print(bool_true + 1)    # Output: 2 (True + 1 = 1 + 1 = 2)\n",
        "print(bool_false + 1)   # Output: 1 (False + 1 = 0 + 1 = 1)"
      ]
    },
    {
      "cell_type": "markdown",
      "metadata": {
        "id": "OszAMr2b-L_m"
      },
      "source": [
        "Understanding that Boolean values (True and False) are equivalent to 1 and 0 in certain operations can be useful when performing calculations or conditional checks in your code, as we will study during the bootcamp."
      ]
    },
    {
      "cell_type": "markdown",
      "metadata": {
        "id": "2yHmCQye-L_m"
      },
      "source": [
        "## Operators"
      ]
    },
    {
      "cell_type": "markdown",
      "metadata": {
        "id": "O2qnzWdQ-L_n"
      },
      "source": [
        "Operators are special symbols or keywords used to perform operations on data. They allow us to manipulate values and perform calculations."
      ]
    },
    {
      "cell_type": "markdown",
      "metadata": {
        "id": "j8SRUzfP-L_n"
      },
      "source": [
        "There are various types of operators, including arithmetic, assignment, comparison, logical, and bitwise operators.\n",
        "We will look at some of the more common operators that we use in Python."
      ]
    },
    {
      "cell_type": "code",
      "execution_count": null,
      "metadata": {
        "id": "cn17sTRE-L_n"
      },
      "outputs": [],
      "source": [
        "# We will define two integer variables here and use operators on them\n",
        "x = 10\n",
        "y = 5"
      ]
    },
    {
      "cell_type": "code",
      "execution_count": null,
      "metadata": {
        "id": "N31lQTJL-L_n"
      },
      "outputs": [],
      "source": [
        "# We will define two string variables here and use operators on them\n",
        "name = \"Peter\"\n",
        "surname = \"Gates\""
      ]
    },
    {
      "cell_type": "markdown",
      "metadata": {
        "id": "XiYaa0S1-L_n"
      },
      "source": [
        "### Arithmetic Operators"
      ]
    },
    {
      "cell_type": "markdown",
      "metadata": {
        "id": "427BfUt3-L_n"
      },
      "source": [
        "Arithmetic operators are used to perform mathematical calculations on numeric data types."
      ]
    },
    {
      "cell_type": "markdown",
      "metadata": {
        "id": "fme3OS1U-L_n"
      },
      "source": [
        "Here on the left hand side we have the operator and on the right we can see how they can be used with variables\n",
        "- `+` - Addition (x + y): The addition operator is used to add two or more numbers together.\n",
        "- `-`\t- Subtraction (x - y): The subtraction operator is used to subtract one number from another.\n",
        "- `*`\t- Multiplication (x * y): The multiplication operator is used to multiply two or more numbers.\n",
        "- `/` - Division (x / y): The division operator is used to divide one number by another. It returns a floating-point result.\n",
        "- `//` - Integer division (x // y): The integer division operator divides one number by another and returns the integer quotient, discarding any decimal places.\n",
        "- `%` - Modulus or modulo (x % y): The modulus or modulo operator returns the remainder of the division between two numbers.\n",
        "- `**` - Exponentiation (x ** y): The exponentiation operator raises a number to the power of another number."
      ]
    },
    {
      "cell_type": "code",
      "execution_count": null,
      "metadata": {
        "id": "k-SMofmF-L_n"
      },
      "outputs": [],
      "source": [
        "# You can try and test these operators as shown below"
      ]
    },
    {
      "cell_type": "code",
      "execution_count": null,
      "metadata": {
        "id": "t-gw9aSX-L_n",
        "outputId": "c65d2613-c010-4459-ae2c-f92b2cdef57b"
      },
      "outputs": [
        {
          "data": {
            "text/plain": [
              "15"
            ]
          },
          "execution_count": 184,
          "metadata": {},
          "output_type": "execute_result"
        }
      ],
      "source": [
        "x+y"
      ]
    },
    {
      "cell_type": "code",
      "execution_count": null,
      "metadata": {
        "id": "GGPys1DG-L_n",
        "outputId": "22272a32-30c6-4e23-f08a-f25591eaf8e5"
      },
      "outputs": [
        {
          "data": {
            "text/plain": [
              "5"
            ]
          },
          "execution_count": 185,
          "metadata": {},
          "output_type": "execute_result"
        }
      ],
      "source": [
        "x-y"
      ]
    },
    {
      "cell_type": "code",
      "execution_count": null,
      "metadata": {
        "id": "5sNzZ1vz-L_n",
        "outputId": "2a85e722-8405-4aec-9063-3d73c92b20b6"
      },
      "outputs": [
        {
          "data": {
            "text/plain": [
              "50"
            ]
          },
          "execution_count": 186,
          "metadata": {},
          "output_type": "execute_result"
        }
      ],
      "source": [
        "x*y"
      ]
    },
    {
      "cell_type": "code",
      "execution_count": null,
      "metadata": {
        "id": "q_QScavH-L_n",
        "outputId": "2e6f0ea2-69db-494a-9bfd-9930339a5356"
      },
      "outputs": [
        {
          "data": {
            "text/plain": [
              "2.0"
            ]
          },
          "execution_count": 187,
          "metadata": {},
          "output_type": "execute_result"
        }
      ],
      "source": [
        "x/y"
      ]
    },
    {
      "cell_type": "code",
      "execution_count": null,
      "metadata": {
        "id": "WC-hNq6w-L_n",
        "outputId": "be434b92-e5fc-4cd9-f075-69fed9a020db"
      },
      "outputs": [
        {
          "data": {
            "text/plain": [
              "0"
            ]
          },
          "execution_count": 188,
          "metadata": {},
          "output_type": "execute_result"
        }
      ],
      "source": [
        "x%y # Gives the remainder"
      ]
    },
    {
      "cell_type": "code",
      "execution_count": null,
      "metadata": {
        "id": "MrHECmVQ-L_n",
        "outputId": "bff5d968-2f41-4cd6-bc71-38fed2605fa3"
      },
      "outputs": [
        {
          "data": {
            "text/plain": [
              "100000"
            ]
          },
          "execution_count": 189,
          "metadata": {},
          "output_type": "execute_result"
        }
      ],
      "source": [
        "x**y # 'y' times multiplication of 'x'"
      ]
    },
    {
      "cell_type": "code",
      "execution_count": null,
      "metadata": {
        "id": "QEQL2PYG-L_o",
        "outputId": "b7bc0ab8-4303-4228-e504-870b0b0041f9"
      },
      "outputs": [
        {
          "data": {
            "text/plain": [
              "2"
            ]
          },
          "execution_count": 190,
          "metadata": {},
          "output_type": "execute_result"
        }
      ],
      "source": [
        "x // y # Rounds off the result to the lower interger value on the number line"
      ]
    },
    {
      "cell_type": "markdown",
      "metadata": {
        "id": "6RsnLF4z-L_o"
      },
      "source": [
        "In addition to working with numerical values, some arithmetic operators can also be used with strings in Python. Let's explore how these operators behave when applied to strings:"
      ]
    },
    {
      "cell_type": "markdown",
      "metadata": {
        "id": "RlBNOINK-L_o"
      },
      "source": [
        "Addition (+): The addition operator is used to concatenate or join two or more strings together."
      ]
    },
    {
      "cell_type": "code",
      "execution_count": null,
      "metadata": {
        "id": "AdsJg1eW-L_o",
        "outputId": "e00d9afa-e464-4db4-b306-38d023c10e97"
      },
      "outputs": [
        {
          "data": {
            "text/plain": [
              "'PeterGates'"
            ]
          },
          "execution_count": 191,
          "metadata": {},
          "output_type": "execute_result"
        }
      ],
      "source": [
        "name + surname"
      ]
    },
    {
      "cell_type": "markdown",
      "metadata": {
        "id": "D_o3V_XQ-L_o"
      },
      "source": [
        "Multiplication (*): The multiplication operator can be used to repeat a string a certain number of times."
      ]
    },
    {
      "cell_type": "code",
      "execution_count": null,
      "metadata": {
        "id": "Z0owZH3P-L_o",
        "outputId": "de822ab6-177f-40ec-a0cb-72fb7c18ba46"
      },
      "outputs": [
        {
          "data": {
            "text/plain": [
              "'PeterPeterPeter'"
            ]
          },
          "execution_count": 192,
          "metadata": {},
          "output_type": "execute_result"
        }
      ],
      "source": [
        "name * 3"
      ]
    },
    {
      "cell_type": "markdown",
      "metadata": {
        "id": "LHnUI8BA-L_o"
      },
      "source": [
        "These two arithmetic operators can also be used with other data structures that we will see in the following lessons, such as lists."
      ]
    },
    {
      "cell_type": "markdown",
      "metadata": {
        "id": "2IgM498R-L_o"
      },
      "source": [
        "Please note that the subtraction (-), division (/), integer division (//), modulo (%), and exponentiation (**) operators are not defined for strings, lists or other data structures in Python.\n",
        "\n",
        "What means to substract one word from another one? Or to divide?"
      ]
    },
    {
      "cell_type": "markdown",
      "metadata": {
        "id": "tGZAFfGg-L_o"
      },
      "source": [
        "### Assignment Operators"
      ]
    },
    {
      "cell_type": "markdown",
      "metadata": {
        "id": "dJRex0m0-L_o"
      },
      "source": [
        "Assignment operators are used to assign values to variables. They allow you to store and update data in variables."
      ]
    },
    {
      "cell_type": "markdown",
      "metadata": {
        "id": "Ov044MnK-L_o"
      },
      "source": [
        "We have already seen it before when we talked about 'Variables' and 'Data Types'."
      ]
    },
    {
      "cell_type": "markdown",
      "metadata": {
        "id": "sOeLfFfi-L_o"
      },
      "source": [
        "In Python, there are several assignment operators available:"
      ]
    },
    {
      "cell_type": "markdown",
      "metadata": {
        "id": "A4hNJTmq-L_o"
      },
      "source": [
        "`= (Equals)` - The equals sign assigns the value on the right-hand side to the variable on the left-hand side."
      ]
    },
    {
      "cell_type": "code",
      "execution_count": null,
      "metadata": {
        "id": "4B7CaKiD-L_o",
        "outputId": "2f9a7ab5-df03-41d5-f2d8-865d690747c1"
      },
      "outputs": [
        {
          "name": "stdout",
          "output_type": "stream",
          "text": [
            "10\n"
          ]
        }
      ],
      "source": [
        "x = 10\n",
        "print(x)"
      ]
    },
    {
      "cell_type": "markdown",
      "metadata": {
        "id": "L2eu1lsq-L_o"
      },
      "source": [
        "`+= (Add and Assign)` - The plus-equals operator adds the value on the right-hand side to the variable's current value and assigns the result back to the variable."
      ]
    },
    {
      "cell_type": "raw",
      "metadata": {
        "id": "emdkSv1C-L_p"
      },
      "source": [
        "x += 3  is equivalent to x = x + 3"
      ]
    },
    {
      "cell_type": "code",
      "execution_count": null,
      "metadata": {
        "id": "B0NtcpZC-L_p",
        "outputId": "6df695c1-3b62-4ec3-f7de-26f72c83e545"
      },
      "outputs": [
        {
          "name": "stdout",
          "output_type": "stream",
          "text": [
            "13\n"
          ]
        }
      ],
      "source": [
        "x = 10\n",
        "x+=3\n",
        "print(x)"
      ]
    },
    {
      "cell_type": "markdown",
      "metadata": {
        "id": "JQB-aRqZ-L_p"
      },
      "source": [
        "`-= (Subtract and Assign)` - The minus-equals operator subtracts the value on the right-hand side from the variable's current value and assigns the result back to the variable."
      ]
    },
    {
      "cell_type": "code",
      "execution_count": null,
      "metadata": {
        "id": "KOVlK5js-L_p",
        "outputId": "ceeb405f-ccdb-4996-efce-cd580671c241"
      },
      "outputs": [
        {
          "name": "stdout",
          "output_type": "stream",
          "text": [
            "7\n"
          ]
        }
      ],
      "source": [
        "x = 10\n",
        "x-=3\n",
        "print(x)"
      ]
    },
    {
      "cell_type": "markdown",
      "metadata": {
        "id": "SrAhmRXa-L_p"
      },
      "source": [
        "`*= (Multiply and Assign)` - The multiply-equals operator multiplies the variable's current value by the value on the right-hand side and assigns the result back to the variable."
      ]
    },
    {
      "cell_type": "code",
      "execution_count": null,
      "metadata": {
        "id": "GyEaacwR-L_p",
        "outputId": "511385bf-6b9c-4cb6-e8bf-1f880f6fbe7a"
      },
      "outputs": [
        {
          "name": "stdout",
          "output_type": "stream",
          "text": [
            "30\n"
          ]
        }
      ],
      "source": [
        "x = 10\n",
        "x*=3\n",
        "print(x)"
      ]
    },
    {
      "cell_type": "markdown",
      "metadata": {
        "id": "O84aTCE6-L_p"
      },
      "source": [
        "`/= (Divide and Assign)` - The divide-equals operator divides the variable's current value by the value on the right-hand side and assigns the result back to the variable."
      ]
    },
    {
      "cell_type": "code",
      "execution_count": null,
      "metadata": {
        "id": "GLyp6bNt-L_p",
        "outputId": "a74d0310-7b22-4d20-8c9c-50fa2c232ea2"
      },
      "outputs": [
        {
          "name": "stdout",
          "output_type": "stream",
          "text": [
            "3.3333333333333335\n"
          ]
        }
      ],
      "source": [
        "x = 10\n",
        "x/=3\n",
        "print(x)"
      ]
    },
    {
      "cell_type": "markdown",
      "metadata": {
        "id": "EpIG4oKT-L_p"
      },
      "source": [
        "And so on with modulus, floor divison, and exponentiation."
      ]
    },
    {
      "cell_type": "markdown",
      "metadata": {
        "id": "mEthH4Vc-L_p"
      },
      "source": [
        "These assignment operators can be combined with various arithmetic and logical operations to perform calculations and update variable values in a concise manner.\n",
        "\n",
        "Remember that assignment operators are used to update the value of a variable, so the variable on the left-hand side should already exist before using an assignment operator on it."
      ]
    },
    {
      "cell_type": "markdown",
      "metadata": {
        "id": "PzoHRQEi-L_p"
      },
      "source": [
        "### Comparison Operators"
      ]
    },
    {
      "cell_type": "markdown",
      "metadata": {
        "id": "DsrUaUaX-L_p"
      },
      "source": [
        "Comparison operators are used to compare values and determine the relationship between them. They return either `True` or `False` based on the comparison result. Returns `True` if the condition is met, otherwise returns a `False`.\n",
        "\n",
        "In Python, there are several comparison operators available:\n",
        "\n"
      ]
    },
    {
      "cell_type": "raw",
      "metadata": {
        "id": "w4qQ4a6E-L_p"
      },
      "source": [
        "==  Equal   x == y\n",
        "!=  Not equal  x != y\n",
        ">   Greater than  x > y\n",
        "<   Less than  x < y\n",
        ">=  Greater than or equal to  x >= y\n",
        "<=  Less than or equal to  x <= y"
      ]
    },
    {
      "cell_type": "code",
      "execution_count": null,
      "metadata": {
        "id": "jpXxUVrp-L_p"
      },
      "outputs": [],
      "source": [
        "x = 10  # Initialize variable `x` with a value 10\n",
        "y = 5   # Initialize variable `y` with a value 5"
      ]
    },
    {
      "cell_type": "markdown",
      "metadata": {
        "id": "dovUeI9Z-L_p"
      },
      "source": [
        "`== (Equal to)` - The double equals operator compares if two values are equal."
      ]
    },
    {
      "cell_type": "code",
      "execution_count": null,
      "metadata": {
        "id": "lDKuxRYK-L_q",
        "outputId": "4ff3f3e0-239b-462d-80f5-2d843defe1d5"
      },
      "outputs": [
        {
          "data": {
            "text/plain": [
              "False"
            ]
          },
          "execution_count": 199,
          "metadata": {},
          "output_type": "execute_result"
        }
      ],
      "source": [
        "x == y"
      ]
    },
    {
      "cell_type": "markdown",
      "metadata": {
        "id": "f92ttrgb-L_q"
      },
      "source": [
        "`!= (Not equal to)` - The exclamation mark followed by equals compares if two values are not equal."
      ]
    },
    {
      "cell_type": "code",
      "execution_count": null,
      "metadata": {
        "id": "yndlZapa-L_q",
        "outputId": "600e5f02-2243-4b8c-adf7-9bb093a8de49"
      },
      "outputs": [
        {
          "data": {
            "text/plain": [
              "True"
            ]
          },
          "execution_count": 200,
          "metadata": {},
          "output_type": "execute_result"
        }
      ],
      "source": [
        "x != y"
      ]
    },
    {
      "cell_type": "markdown",
      "metadata": {
        "id": "jgiTISW3-L_q"
      },
      "source": [
        "`< (Less than)` - The less than operator compares if the value on the left is less than the value on the right."
      ]
    },
    {
      "cell_type": "code",
      "execution_count": null,
      "metadata": {
        "id": "FIsAoRdS-L_q",
        "outputId": "97cc6bfe-2aa9-4c28-bf62-0680a8d71680"
      },
      "outputs": [
        {
          "data": {
            "text/plain": [
              "True"
            ]
          },
          "execution_count": 201,
          "metadata": {},
          "output_type": "execute_result"
        }
      ],
      "source": [
        "x > y"
      ]
    },
    {
      "cell_type": "markdown",
      "metadata": {
        "id": "89mp3xLH-L_q"
      },
      "source": [
        "`> (Greater than)` - The greater than operator compares if the value on the left is greater than the value on the right."
      ]
    },
    {
      "cell_type": "code",
      "execution_count": null,
      "metadata": {
        "id": "vz5uwKMN-L_q",
        "outputId": "5cdcac67-875b-42e6-8e15-5d98bf1918d5"
      },
      "outputs": [
        {
          "data": {
            "text/plain": [
              "True"
            ]
          },
          "execution_count": 202,
          "metadata": {},
          "output_type": "execute_result"
        }
      ],
      "source": [
        "x >= y"
      ]
    },
    {
      "cell_type": "markdown",
      "metadata": {
        "id": "A1AMAgdD-L_q"
      },
      "source": [
        "`<= (Less than or equal to)` - The less than or equal to operator compares if the value on the left is less than or equal to the value on the right."
      ]
    },
    {
      "cell_type": "code",
      "execution_count": null,
      "metadata": {
        "id": "WwGyqPn8-L_q",
        "outputId": "5190c49e-b28c-4434-b0b2-561f0221de29"
      },
      "outputs": [
        {
          "data": {
            "text/plain": [
              "False"
            ]
          },
          "execution_count": 203,
          "metadata": {},
          "output_type": "execute_result"
        }
      ],
      "source": [
        "x<y"
      ]
    },
    {
      "cell_type": "markdown",
      "metadata": {
        "id": "ZtRIMkSM-L_q"
      },
      "source": [
        "`>= (Greater than or equal to)` - The greater than or equal to operator compares if the value on the left is greater than or equal to the value on the right."
      ]
    },
    {
      "cell_type": "code",
      "execution_count": null,
      "metadata": {
        "id": "XK56atUY-L_q",
        "outputId": "ef45067e-d0b2-4c13-a5c3-2b30bd59444c"
      },
      "outputs": [
        {
          "data": {
            "text/plain": [
              "False"
            ]
          },
          "execution_count": 204,
          "metadata": {},
          "output_type": "execute_result"
        }
      ],
      "source": [
        "x <= y"
      ]
    },
    {
      "cell_type": "markdown",
      "metadata": {
        "id": "NDjgdH5R-L_q"
      },
      "source": [
        "These comparison operators allow you to compare numbers, strings, and other data types in Python. They are commonly used in conditional statements and loops to make decisions based on the comparison results.\n",
        "\n",
        "It's important to note that the comparison operators always return a Boolean value, either True or False, depending on the outcome of the comparison."
      ]
    },
    {
      "cell_type": "markdown",
      "metadata": {
        "id": "3WcAonS0-L_q"
      },
      "source": [
        "### Logical Operators"
      ]
    },
    {
      "cell_type": "markdown",
      "metadata": {
        "id": "z3oVz8QY-L_q"
      },
      "source": [
        "Logical operators are used to combine and manipulate logical values (True or False). They allow you to perform logical operations on conditions and make decisions based on the results. In Python, there are three logical operators available:"
      ]
    },
    {
      "cell_type": "code",
      "execution_count": null,
      "metadata": {
        "id": "e8aNxN1E-L_q"
      },
      "outputs": [],
      "source": [
        "x = 10 # First we will initialize variable `x` with a value 10.\n",
        "y = 15 # We will initialize variable `y` with a value 15."
      ]
    },
    {
      "cell_type": "markdown",
      "metadata": {
        "id": "5kbddb6X-L_q"
      },
      "source": [
        "**and**: The and operator returns True if both of the conditions on either side of it are True. Otherwise, it returns False."
      ]
    },
    {
      "cell_type": "code",
      "execution_count": null,
      "metadata": {
        "scrolled": true,
        "id": "1Y-Mw89m-L_r",
        "outputId": "c1763105-79a1-4973-91c6-e5e9102f7672"
      },
      "outputs": [
        {
          "data": {
            "text/plain": [
              "False"
            ]
          },
          "execution_count": 206,
          "metadata": {},
          "output_type": "execute_result"
        }
      ],
      "source": [
        "x < 5 and y < 10 # Returns False since both conditions are False"
      ]
    },
    {
      "cell_type": "code",
      "execution_count": null,
      "metadata": {
        "scrolled": true,
        "id": "BfDCyXSo-L_r",
        "outputId": "165cd13e-79fa-4950-9c95-c6e134cec4c7"
      },
      "outputs": [
        {
          "data": {
            "text/plain": [
              "True"
            ]
          },
          "execution_count": 207,
          "metadata": {},
          "output_type": "execute_result"
        }
      ],
      "source": [
        "x > 5 and y < 20 # Returns True since both conditions are True"
      ]
    },
    {
      "cell_type": "code",
      "execution_count": null,
      "metadata": {
        "id": "J11T5Kl1-L_r",
        "outputId": "0837cfe4-ac02-41c3-8206-162c3a5be9b2"
      },
      "outputs": [
        {
          "data": {
            "text/plain": [
              "False"
            ]
          },
          "execution_count": 208,
          "metadata": {},
          "output_type": "execute_result"
        }
      ],
      "source": [
        "x < 5 and y < 20 # Returns False since one of the conditions is False, even the other one is True"
      ]
    },
    {
      "cell_type": "markdown",
      "metadata": {
        "id": "fmrkSbyi-L_r"
      },
      "source": [
        "**or**: The or operator returns True if at least one of the conditions on either side of it is True. If both conditions are False, it returns False."
      ]
    },
    {
      "cell_type": "code",
      "execution_count": null,
      "metadata": {
        "id": "E_9vQy5M-L_r",
        "outputId": "28edf8a4-cc1b-44f4-afab-afc9d154ec1e"
      },
      "outputs": [
        {
          "data": {
            "text/plain": [
              "False"
            ]
          },
          "execution_count": 209,
          "metadata": {},
          "output_type": "execute_result"
        }
      ],
      "source": [
        "x < 5 or y < 10 # Returns False since both conditions are False"
      ]
    },
    {
      "cell_type": "code",
      "execution_count": null,
      "metadata": {
        "id": "ILiDTraU-L_r",
        "outputId": "b6c054a3-b88a-4456-c127-b096ac28dbe2"
      },
      "outputs": [
        {
          "data": {
            "text/plain": [
              "True"
            ]
          },
          "execution_count": 210,
          "metadata": {},
          "output_type": "execute_result"
        }
      ],
      "source": [
        "x > 5 or y < 20 # Returns True since both conditions are True"
      ]
    },
    {
      "cell_type": "code",
      "execution_count": null,
      "metadata": {
        "id": "i7gBwSF3-L_r",
        "outputId": "f2bf62e1-657f-4119-a6f4-3f0b33226716"
      },
      "outputs": [
        {
          "data": {
            "text/plain": [
              "True"
            ]
          },
          "execution_count": 211,
          "metadata": {},
          "output_type": "execute_result"
        }
      ],
      "source": [
        "x < 5 or y < 20 # Returns True since one of the conditions is True, even one is False"
      ]
    },
    {
      "cell_type": "markdown",
      "metadata": {
        "id": "SVdUiLPD-L_r"
      },
      "source": [
        "**not**: The not operator is a unary operator that negates the logical value of a condition. It returns True if the condition is False and False if the condition is True."
      ]
    },
    {
      "cell_type": "code",
      "execution_count": null,
      "metadata": {
        "id": "FPOEsuw1-L_r",
        "outputId": "a8819191-b73e-4f55-a01e-a4c53153e041"
      },
      "outputs": [
        {
          "data": {
            "text/plain": [
              "False"
            ]
          },
          "execution_count": 212,
          "metadata": {},
          "output_type": "execute_result"
        }
      ],
      "source": [
        "not(x < 5 or y < 20) # x < 5 or y < 20 is True, so applying not we get False"
      ]
    },
    {
      "cell_type": "code",
      "execution_count": null,
      "metadata": {
        "id": "QP-fQLGQ-L_r",
        "outputId": "c476696f-1471-4ebe-abac-6ebcb07994db"
      },
      "outputs": [
        {
          "data": {
            "text/plain": [
              "True"
            ]
          },
          "execution_count": 213,
          "metadata": {},
          "output_type": "execute_result"
        }
      ],
      "source": [
        "not(x < 5 or y < 10) # x < 5 or y < 10 is False, so applying not we get True"
      ]
    },
    {
      "cell_type": "markdown",
      "metadata": {
        "id": "VjxCcnxo-L_r"
      },
      "source": [
        "## Data Type Compatibility"
      ]
    },
    {
      "cell_type": "markdown",
      "metadata": {
        "id": "aURS3C-o-L_r"
      },
      "source": [
        "While some operations are supported across different data types, it's important to recognize that not all data types can be used together in the same way. Performing certain operations with incompatible data types can result in errors."
      ]
    },
    {
      "cell_type": "markdown",
      "metadata": {
        "id": "NCiyCm8r-L_r"
      },
      "source": [
        "For example, what is 1 plus \"hello\"?"
      ]
    },
    {
      "cell_type": "code",
      "execution_count": null,
      "metadata": {
        "id": "uHVxdI_O-L_r"
      },
      "outputs": [],
      "source": [
        "# 1+\"hello\""
      ]
    },
    {
      "cell_type": "markdown",
      "metadata": {
        "id": "WsjMzpQA-L_r"
      },
      "source": [
        "We get an error because the computer doesn't know how to sum a number plus a string (neither do we)."
      ]
    },
    {
      "cell_type": "markdown",
      "metadata": {
        "id": "wpcBJy-0-L_s"
      },
      "source": [
        "As a general rule of thumb, if we can't perform certain operations in our minds, the computer won't be able to do them either."
      ]
    },
    {
      "cell_type": "markdown",
      "metadata": {
        "id": "KZ_6bMwL-L_s"
      },
      "source": [
        "Computers are designed to follow strict rules and execute operations precisely. When we attempt to combine incompatible data types, like adding a number to a string, the computer recognizes this mismatch and throws an error. It's important to remember that computers can only perform operations that are explicitly defined for each data type."
      ]
    },
    {
      "cell_type": "markdown",
      "metadata": {
        "id": "X2xBL3tk-L_s"
      },
      "source": [
        "## Data Type Casting"
      ]
    },
    {
      "cell_type": "markdown",
      "metadata": {
        "id": "F464Xj1y-L_s"
      },
      "source": [
        "In Python, data type casting, also known as type conversion, allows you to change the data type of a value from one type to another. This can be useful when you want to perform operations or manipulate data that requires specific data types."
      ]
    },
    {
      "cell_type": "markdown",
      "metadata": {
        "id": "py-HtXt5-L_s"
      },
      "source": [
        "`int()` function: To convert a value to an integer, you can use the `int()` function."
      ]
    },
    {
      "cell_type": "code",
      "execution_count": null,
      "metadata": {
        "id": "t7OxvgeW-L_s",
        "outputId": "796aa414-ed7e-408b-f89f-4916e97af5d1"
      },
      "outputs": [
        {
          "name": "stdout",
          "output_type": "stream",
          "text": [
            "3\n",
            "<class 'int'>\n"
          ]
        }
      ],
      "source": [
        "num_float = 3.14 # This is a float\n",
        "num_int = int(num_float)\n",
        "print(num_int)  # Output: 3\n",
        "print(type(num_int)) # Output: int"
      ]
    },
    {
      "cell_type": "code",
      "execution_count": null,
      "metadata": {
        "id": "500QSCpI-L_s",
        "outputId": "c02969ca-ed3e-4e96-f260-d2fa31616b33"
      },
      "outputs": [
        {
          "name": "stdout",
          "output_type": "stream",
          "text": [
            "42\n",
            "<class 'int'>\n"
          ]
        }
      ],
      "source": [
        "num_str = \"42\" # This is a String\n",
        "num_int = int(num_str)\n",
        "print(num_int)  # Output: 42\n",
        "print(type(num_int)) # Output: int"
      ]
    },
    {
      "cell_type": "markdown",
      "metadata": {
        "id": "7j-vJ39Y-L_s"
      },
      "source": [
        "\n",
        "`float()` function: To convert a value to a float, you can use the `float()` function."
      ]
    },
    {
      "cell_type": "code",
      "execution_count": null,
      "metadata": {
        "id": "TNPFqXCg-L_s",
        "outputId": "44453a7f-a303-40f3-b7b2-dcd0cba42aca"
      },
      "outputs": [
        {
          "name": "stdout",
          "output_type": "stream",
          "text": [
            "5.0\n"
          ]
        },
        {
          "data": {
            "text/plain": [
              "float"
            ]
          },
          "execution_count": 217,
          "metadata": {},
          "output_type": "execute_result"
        }
      ],
      "source": [
        "num_int = 5 # This is a integer\n",
        "num_float = float(num_int)\n",
        "print(num_float)  # Output: 5.0\n",
        "type(num_float) # Output: float"
      ]
    },
    {
      "cell_type": "code",
      "execution_count": null,
      "metadata": {
        "id": "6rW6o3yz-L_s",
        "outputId": "512cb3e9-3541-4fb2-a344-8a4a19438dfb"
      },
      "outputs": [
        {
          "name": "stdout",
          "output_type": "stream",
          "text": [
            "3.14\n"
          ]
        },
        {
          "data": {
            "text/plain": [
              "float"
            ]
          },
          "execution_count": 218,
          "metadata": {},
          "output_type": "execute_result"
        }
      ],
      "source": [
        "num_str = \"3.14\" # This is a string\n",
        "num_float = float(num_str)\n",
        "print(num_float)  # Output: 3.14\n",
        "type(num_float) # Output: float"
      ]
    },
    {
      "cell_type": "markdown",
      "metadata": {
        "id": "lDnt5JMH-L_s"
      },
      "source": [
        "`str()` function: To convert a value to a string, you can use the str() function."
      ]
    },
    {
      "cell_type": "code",
      "execution_count": null,
      "metadata": {
        "id": "INebbh5H-L_s",
        "outputId": "0e3ced76-1d00-4154-f3a2-9d0ddb4d34ab"
      },
      "outputs": [
        {
          "name": "stdout",
          "output_type": "stream",
          "text": [
            "42\n"
          ]
        },
        {
          "data": {
            "text/plain": [
              "str"
            ]
          },
          "execution_count": 219,
          "metadata": {},
          "output_type": "execute_result"
        }
      ],
      "source": [
        "num_int = 42 # This is a integer\n",
        "num_str = str(num_int)\n",
        "print(num_str)  # Output: \"42\"\n",
        "type(num_str) # Output: str"
      ]
    },
    {
      "cell_type": "code",
      "execution_count": null,
      "metadata": {
        "id": "wVwbHnfX-L_s",
        "outputId": "bf6a5edc-01ad-4c62-f1c0-b2cdb4f740e7"
      },
      "outputs": [
        {
          "name": "stdout",
          "output_type": "stream",
          "text": [
            "True\n"
          ]
        },
        {
          "data": {
            "text/plain": [
              "str"
            ]
          },
          "execution_count": 220,
          "metadata": {},
          "output_type": "execute_result"
        }
      ],
      "source": [
        "num_bool = True # This is a boolean\n",
        "num_str = str(num_bool)\n",
        "print(num_str)  # Output: \"True\"\n",
        "type(num_str) # Output: str"
      ]
    },
    {
      "cell_type": "markdown",
      "metadata": {
        "id": "1cX9qXVT-L_s"
      },
      "source": [
        "`bool()` function: To convert a value to a boolean, you can use the `bool()` function."
      ]
    },
    {
      "cell_type": "code",
      "execution_count": null,
      "metadata": {
        "id": "ueZTXeCs-L_s",
        "outputId": "d465b726-fda5-45d2-ce0b-c682e7345955"
      },
      "outputs": [
        {
          "name": "stdout",
          "output_type": "stream",
          "text": [
            "False\n"
          ]
        },
        {
          "data": {
            "text/plain": [
              "bool"
            ]
          },
          "execution_count": 221,
          "metadata": {},
          "output_type": "execute_result"
        }
      ],
      "source": [
        "num_int = 0 # This is a integer\n",
        "num_bool = bool(num_int)\n",
        "print(num_bool)  # Output: False\n",
        "type(num_bool) # Output: bool"
      ]
    },
    {
      "cell_type": "markdown",
      "metadata": {
        "id": "z-vxdWrQ-L_s"
      },
      "source": [
        "Remember that not all types can be converted to each other. Some conversions may result in data loss or unexpected behavior, so it's important to understand the limitations and implications of type casting."
      ]
    },
    {
      "cell_type": "markdown",
      "metadata": {
        "id": "Rx8YonLb-L_t"
      },
      "source": [
        "## More Resources"
      ]
    },
    {
      "cell_type": "markdown",
      "metadata": {
        "id": "FpgDN3hR-L_t"
      },
      "source": [
        "https://www.programiz.com/python-programming/operators"
      ]
    },
    {
      "cell_type": "markdown",
      "metadata": {
        "id": "pWFvWd-W-L_t"
      },
      "source": [
        "https://www.tutorialspoint.com/python/python_basic_operators.htm"
      ]
    },
    {
      "cell_type": "markdown",
      "metadata": {
        "id": "zl6nxZmC-L_t"
      },
      "source": [
        "## Exercises"
      ]
    },
    {
      "cell_type": "markdown",
      "metadata": {
        "id": "gux0Jdm1-L_t"
      },
      "source": [
        "### 1. Excercise - Data Types"
      ]
    },
    {
      "cell_type": "markdown",
      "metadata": {
        "id": "DqQfozWE-L_t"
      },
      "source": [
        "**1.1** For the given variables, use the `type()` function in Python to check their data types:"
      ]
    },
    {
      "cell_type": "code",
      "execution_count": null,
      "metadata": {
        "id": "UPhZ1PF0-L_t"
      },
      "outputs": [],
      "source": [
        "x1 = 1.1\n",
        "\n",
        "x2 = \"Ironhack\"\n",
        "\n",
        "x3 = \"1.1\"\n",
        "\n",
        "x4 = True\n",
        "\n",
        "x5 = \"True\"\n",
        "\n",
        "x6 = -1"
      ]
    },
    {
      "cell_type": "code",
      "execution_count": null,
      "metadata": {
        "id": "vnVgFm1L-L_t",
        "outputId": "e057f8c7-4adc-406e-eddc-0b06fd31845c"
      },
      "outputs": [
        {
          "name": "stdout",
          "output_type": "stream",
          "text": [
            "Variable x1,  <class 'float'>  stores  1.1\n",
            "Variable x2,  <class 'str'>  stores  Ironhack\n",
            "Variable x3,  <class 'str'>  stores  1.1\n",
            "Variable x4,  <class 'bool'>  stores  True\n",
            "Variable x5,  <class 'str'>  stores  True\n",
            "Variable x6,  <class 'int'>  stores  -1\n"
          ]
        }
      ],
      "source": [
        "print(\"Variable x1, \", type(x1), \" stores \", x1)\n",
        "print(\"Variable x2, \", type(x2), \" stores \", x2)\n",
        "print(\"Variable x3, \", type(x3), \" stores \", x3)\n",
        "print(\"Variable x4, \", type(x4), \" stores \", x4)\n",
        "print(\"Variable x5, \", type(x5), \" stores \", x5)\n",
        "print(\"Variable x6, \", type(x6), \" stores \", x6)"
      ]
    },
    {
      "cell_type": "markdown",
      "metadata": {
        "id": "24OYVcFw-L_t"
      },
      "source": [
        "**2. What is the difference between the variables `x1` and `x3`?**"
      ]
    },
    {
      "cell_type": "code",
      "execution_count": null,
      "metadata": {
        "id": "zmbdRVKi-L_t",
        "outputId": "599894f7-ee00-4ea9-95b8-fa7a3392ab28"
      },
      "outputs": [
        {
          "name": "stdout",
          "output_type": "stream",
          "text": [
            "The difference between them is that x1 is a float that stores 1.1 and x3 stores the same number but as a string 1.1\n"
          ]
        }
      ],
      "source": [
        "print(\"The difference between them is that x1 is a float that stores\", x1, \"and x3 stores the same number but as a string\", x3)"
      ]
    },
    {
      "cell_type": "markdown",
      "metadata": {
        "id": "BJZET23m-L_t"
      },
      "source": [
        "**3.Substract `x3` from `x1`. Explain what happens.**"
      ]
    },
    {
      "cell_type": "code",
      "execution_count": null,
      "metadata": {
        "id": "vagxLlyo-L_t",
        "outputId": "71b07f67-0f46-4d75-a53e-ef0cf0b5b11d"
      },
      "outputs": [
        {
          "name": "stdout",
          "output_type": "stream",
          "text": [
            "x1 - x3 =  Error: Cannot perform subtraction with non-numeric values, both variables must be numeric values\n",
            "A correct instance for this operation would be: x1 - 0.1 (which is a numeric value) and equals: 1.0\n",
            "Error: Cannot perform subtraction with non-numeric values, both variables must be numeric values\n"
          ]
        }
      ],
      "source": [
        "def operation_sub(a, b):\n",
        "    if isinstance(a, (int, float)) and isinstance(b, (int, float)):\n",
        "        result = a - b\n",
        "        return result\n",
        "    else:\n",
        "        return \"Error: Cannot perform subtraction with non-numeric values, both variables must be numeric values\"\n",
        "result = operation_sub(x1, x3)\n",
        "print(\"x1 - x3 = \", result)\n",
        "result = operation_sub(x1, 0.1)\n",
        "print(\"A correct instance for this operation would be: x1 - 0.1 (which is a numeric value) and equals:\", result)\n",
        "\n",
        "result = operation_sub(x4, x5)\n",
        "print(result)"
      ]
    },
    {
      "cell_type": "markdown",
      "metadata": {
        "id": "YIXPpMbB-L_t"
      },
      "source": [
        "**4. What is the difference between the variables `x4` and `x5`?**"
      ]
    },
    {
      "cell_type": "code",
      "execution_count": null,
      "metadata": {
        "id": "AJe7cjOY-L_t",
        "outputId": "3d1ec9ff-0697-4844-c83f-3d60f46c4e0b"
      },
      "outputs": [
        {
          "name": "stdout",
          "output_type": "stream",
          "text": [
            "The difference between them is that x4 is a boolean that stores True and x5 stores the same output but as a string True\n"
          ]
        }
      ],
      "source": [
        "print(\"The difference between them is that x4 is a boolean that stores\", x4, \"and x5 stores the same output but as a string\", x5)"
      ]
    },
    {
      "cell_type": "markdown",
      "metadata": {
        "id": "KM3STayF-L_t"
      },
      "source": [
        "**5.Substract `x4` from `x5`. Explain what happens.**"
      ]
    },
    {
      "cell_type": "code",
      "execution_count": null,
      "metadata": {
        "id": "IYHOb6w6-L_t",
        "outputId": "6db93661-86d2-4a35-c706-158c86832ed0"
      },
      "outputs": [
        {
          "name": "stdout",
          "output_type": "stream",
          "text": [
            "The result is the same as we saw in 1.3 Question, changing the fact that now would be a comparation between them. We would still need both same type variables\n",
            "Error: Unsupported operand type(s) for -: 'bool' and 'str'\n"
          ]
        }
      ],
      "source": [
        "print(\"The result is the same as we saw in 1.3 Question, changing the fact that now would be a comparation between them. We would still need both same type variables\")\n",
        "def operation_sub2(a, b):\n",
        "        result = a - b\n",
        "        return result\n",
        "\n",
        "# result = operation_sub2(x4, x5)\n",
        "print(\"Error: Unsupported operand type(s) for -: 'bool' and 'str'\")"
      ]
    },
    {
      "cell_type": "markdown",
      "metadata": {
        "id": "Y2yMy5E8-L_u"
      },
      "source": [
        "### 2. Exercise - Operators"
      ]
    },
    {
      "cell_type": "markdown",
      "metadata": {
        "id": "0VURQBtm-L_u"
      },
      "source": [
        "**2.1** In this problem, we will demonstrate how to take user input. To gather input from the user, we can use the `input(message)` function, where *message* is a message of type *string* that will be displayed to the user.\n",
        "\n",
        "```py\n",
        "x1 = input(\"Please enter an integer number: \")\n",
        "x2 = input(\"Please enter another integer number: \")\n",
        "```"
      ]
    },
    {
      "cell_type": "markdown",
      "metadata": {
        "id": "C12_hZLm-L_u"
      },
      "source": [
        "**Observation:** When you run two or more lines of code in the same cell, or in different cells, in Jupyter Notebook, it will be executed one at a time, in sequence.\n",
        "In this exercise, each of the `input()` functions will create a cell box where you can enter a value and press Enter to confirm. You can identify these input cells because they have a star symbol on the left side as shown [here](https://education-team-2020.s3.eu-west-1.amazonaws.com/data-analytics/prework/unit1/input_function.png), indicating that the computer is waiting for your input (or executing code).\n",
        "After you enter a value, the star symbol will disappear, and the next `input()` function will be executed, displaying a new cell box with a star symbol for the next input. It's important to note that **while an input cell has a star symbol, it will prevent you from running other cells** (if you have the default  settings on your Jupyter Notebook environment)."
      ]
    },
    {
      "cell_type": "markdown",
      "metadata": {
        "id": "iy-1iODf-L_u"
      },
      "source": [
        "**_Question 1_**:\n",
        "\n",
        "Use the code provided above and ask the user to input two numbers. Then, print the values of the two variables. What is the type of `x1` and `x2`? Don't just answer by looking at it's value, use the function `type()` to do so."
      ]
    },
    {
      "cell_type": "code",
      "execution_count": null,
      "metadata": {
        "id": "nHKkaQ74-L_u",
        "outputId": "93795ed8-0a78-4177-d7a7-754be3123ef2"
      },
      "outputs": [
        {
          "name": "stdin",
          "output_type": "stream",
          "text": [
            "Please enter an integer number:  40\n",
            "Please enter another integer number:  30\n"
          ]
        },
        {
          "name": "stdout",
          "output_type": "stream",
          "text": [
            "<class 'str'>\n",
            "<class 'str'>\n"
          ]
        }
      ],
      "source": [
        "x1 = input(\"Please enter an integer number: \")\n",
        "x2 = input(\"Please enter another integer number: \")\n",
        "print(type(x1))\n",
        "print(type(x2))"
      ]
    },
    {
      "cell_type": "markdown",
      "metadata": {
        "id": "tsA8iv0r-L_u"
      },
      "source": [
        "Even though we entered *integers*, the `input()` function converts them into *strings* **by default** (it's the way the function `input()` is defined). Now we will perform data type conversion from *string* to *integer*. Use the `int()` function to do so. Print again the values after performing data type conversion and the corresponding type."
      ]
    },
    {
      "cell_type": "code",
      "execution_count": null,
      "metadata": {
        "id": "6PiatXE2-L_u",
        "outputId": "cf3490cf-7ede-4760-f1e0-bc7b085a075c"
      },
      "outputs": [
        {
          "name": "stdout",
          "output_type": "stream",
          "text": [
            "40 30\n"
          ]
        }
      ],
      "source": [
        "x1 = int(x1)\n",
        "x2 = int(x2)\n",
        "print(x1, x2)"
      ]
    },
    {
      "cell_type": "markdown",
      "metadata": {
        "id": "Tu-SVi99-L_u"
      },
      "source": [
        "**_Question 2_**:\n",
        "\n",
        "Perform the following simple comparisons, using operators:\n",
        "\n",
        "- Check if the two variables are equal.\n",
        "- Check if `x1` is greater than `x2`.\n",
        "- Check if `x2` is greater than `x1`.\n",
        "- Check if `x1` is not equal to `x2`.\n",
        "\n",
        "Store the difference between `x1` and `x2` in another variable `x3` (subtract the smaller number from the larger number).\n",
        "\n",
        "Increment the smaller of the two variables (`x1` and `x2`) with the difference. Use the shorthand addition operator for the same. Again check if `x1` and `x2` are equal or not.\n"
      ]
    },
    {
      "cell_type": "code",
      "execution_count": null,
      "metadata": {
        "id": "l8TumzoJ-L_u",
        "outputId": "27958282-7242-446f-f5c3-c1364e192a81"
      },
      "outputs": [
        {
          "name": "stdout",
          "output_type": "stream",
          "text": [
            "Check if the two variables are equal:\n",
            "False\n",
            "Check if x1 is greater than x2:\n",
            "True\n",
            "Check if x2 is greater than x1:\n",
            "False\n",
            "Check if x1 is not equal to x2:\n",
            "True\n",
            "Store the difference between x1 and x2 in another variable x3 (subtract the smaller number from the larger number).\n",
            "Comparison and subtraction of the smaller from the larger beetwen x1 and x2 has been made and result is stored in x3 as: 10\n",
            "After incrementing the smaller one by the value stored in x3 and checking if x1 equals x2, the result is:\n",
            "True (now they are equal)\n"
          ]
        }
      ],
      "source": [
        "print(\"Check if the two variables are equal:\")\n",
        "print(x1 == x2)\n",
        "\n",
        "print(\"Check if x1 is greater than x2:\")\n",
        "print(x1 > x2)\n",
        "\n",
        "print(\"Check if x2 is greater than x1:\")\n",
        "print (x1 < x2)\n",
        "\n",
        "print(\"Check if x1 is not equal to x2:\")\n",
        "print (x1 != x2)\n",
        "\n",
        "print(\"Store the difference between x1 and x2 in another variable x3 (subtract the smaller number from the larger number).\")\n",
        "\n",
        "def checkLarger(a, b):\n",
        "    boolean = a > b\n",
        "    return boolean\n",
        "\n",
        "boolean = checkLarger(x1, x2)\n",
        "\n",
        "def subSmallerFromLarger(a, b):\n",
        "    if boolean:\n",
        "        result = a - b\n",
        "        return result\n",
        "    else:\n",
        "        result = b - a\n",
        "        return result\n",
        "\n",
        "x3 = subSmallerFromLarger(x1, x2)\n",
        "print(\"Comparison and subtraction of the smaller from the larger beetwen x1 and x2 has been made and result is stored in x3 as:\", x3)\n",
        "\n",
        "def returnSmallerNumber(x1, x2):\n",
        "    if x1 < x2:\n",
        "        return x1\n",
        "    else:\n",
        "        return x2\n",
        "\n",
        "smaller = returnSmallerNumber(x1, x2)\n",
        "\n",
        "smaller += x3\n",
        "\n",
        "print(\"After incrementing the smaller one by the value stored in x3 and checking if x1 equals x2, the result is:\")\n",
        "newResult = bool(subSmallerFromLarger(x1, x2))\n",
        "print(newResult, \"(now they are equal)\")"
      ]
    },
    {
      "cell_type": "markdown",
      "metadata": {
        "id": "ZKHq2ClN-L_u"
      },
      "source": [
        "### 3. Exercise - Concatenation\n",
        "\n",
        "Write a program that asks the user to enter their first name and last name as separate strings. Concatenate the two strings and display a greeting message, such as \"Hello, John Doe!\"."
      ]
    },
    {
      "cell_type": "code",
      "execution_count": 1,
      "metadata": {
        "colab": {
          "base_uri": "https://localhost:8080/"
        },
        "id": "K46usLbJ-L_u",
        "outputId": "e6d0bdd0-cb88-4f29-bd15-2fdcc7806b94"
      },
      "outputs": [
        {
          "output_type": "stream",
          "name": "stdout",
          "text": [
            "Please enter your first name: Rares George\n",
            "Please enter your last name: Radu\n",
            "Hello, Rares George Radu!\n"
          ]
        }
      ],
      "source": [
        "firstName = input(\"Please enter your first name: \")\n",
        "lastName = input(\"Please enter your last name: \")\n",
        "\n",
        "# print(\"Hello,\", firstName, lastName, \"!\") As the exclamation symbol is spaced from the text, there are two ways to implement this:\n",
        "\n",
        "print(f\"Hello, {firstName} {lastName}!\")\n",
        "\n",
        "# and print (\"Hello,\", firstName, f\"{lastName}!\"), for this case scenario I prefer the first one."
      ]
    },
    {
      "cell_type": "markdown",
      "metadata": {
        "id": "9qRaCchG-L_u"
      },
      "source": [
        "## Additional Content"
      ]
    },
    {
      "cell_type": "raw",
      "metadata": {
        "id": "mhrMXAIQ-L_u"
      },
      "source": [
        "Not Included in Pre-Work Assessment\n",
        "\n",
        "The following content provides additional information on the topic but will not be covered in the pre-work assessment. It serves as supplementary material to enhance your understanding beyond the assessment requirements."
      ]
    },
    {
      "cell_type": "code",
      "execution_count": null,
      "metadata": {
        "id": "ceKo9vKR-L_u"
      },
      "outputs": [],
      "source": [
        "# We will talk about these later in the bootcamp. The definitions are below for your reference."
      ]
    },
    {
      "cell_type": "code",
      "execution_count": null,
      "metadata": {
        "id": "LnllyVHa-L_v"
      },
      "outputs": [],
      "source": [
        "x = 10\n",
        "y = 5"
      ]
    },
    {
      "cell_type": "markdown",
      "metadata": {
        "id": "tnGAmd1E-L_v"
      },
      "source": [
        "### Identity Operator"
      ]
    },
    {
      "cell_type": "markdown",
      "metadata": {
        "id": "lnvNAY_l-L_v"
      },
      "source": [
        "Identity operators are used to compare the identity of two objects in Python. They determine whether two variables or values refer to the same object in memory."
      ]
    },
    {
      "cell_type": "markdown",
      "metadata": {
        "id": "5r1azV1c-L_v"
      },
      "source": [
        "Understanding Object Identity:\n",
        "\n",
        "In Python, objects are stored in memory, and variables hold references (or pointers) to those objects. When we use identity operators, we are comparing the memory addresses of the objects to check if they are the same."
      ]
    },
    {
      "cell_type": "markdown",
      "metadata": {
        "id": "vy5vDrpg-L_v"
      },
      "source": [
        "**is**: The is operator checks if two variables refer to the same object."
      ]
    },
    {
      "cell_type": "markdown",
      "metadata": {
        "id": "klaW5125-L_v"
      },
      "source": [
        "Returns `True` if both variables are the same object.\n",
        "The `x` is the `y`. Otherwise returns False."
      ]
    },
    {
      "cell_type": "code",
      "execution_count": null,
      "metadata": {
        "id": "duP000dp-L_v"
      },
      "outputs": [],
      "source": [
        "x is y"
      ]
    },
    {
      "cell_type": "markdown",
      "metadata": {
        "id": "mmijDU-_-L_v"
      },
      "source": [
        "**is not**: The is not operator checks if two variables do not refer to the same object."
      ]
    },
    {
      "cell_type": "markdown",
      "metadata": {
        "id": "hzRzgcZy-L_v"
      },
      "source": [
        "Returns `True` if both variables are not the same object.\n",
        "`x` is not `y`."
      ]
    },
    {
      "cell_type": "code",
      "execution_count": null,
      "metadata": {
        "id": "svdnyHKo-L_v"
      },
      "outputs": [],
      "source": [
        "x is not y"
      ]
    },
    {
      "cell_type": "markdown",
      "metadata": {
        "id": "r5B_vUh4-L_v"
      },
      "source": [
        "The is operator checks if two variables refer to the same object.\n",
        "\n",
        "The is not operator checks if two variables do not refer to the same object."
      ]
    },
    {
      "cell_type": "markdown",
      "metadata": {
        "id": "1I4r_nL4-L_v"
      },
      "source": [
        "### Membership Operator"
      ]
    },
    {
      "cell_type": "markdown",
      "metadata": {
        "id": "IyCGv0EH-L_v"
      },
      "source": [
        "Membership operators are used to test the membership of a value in a sequence (such as a string, list, tuple, or set) in Python. They determine whether a value is present or not in the given sequence."
      ]
    },
    {
      "cell_type": "code",
      "execution_count": null,
      "metadata": {
        "id": "rpOx3l2g-L_v"
      },
      "outputs": [],
      "source": [
        "a = 'I'\n",
        "b = 'Ironhack'"
      ]
    },
    {
      "cell_type": "markdown",
      "metadata": {
        "id": "_GK6DNtH-L_v"
      },
      "source": [
        "**in**: The in operator checks if a value exists in a sequence."
      ]
    },
    {
      "cell_type": "markdown",
      "metadata": {
        "id": "hVdVEG-r-L_v"
      },
      "source": [
        "Returns `True` if a sequence with the specified value is present in the object.\n",
        "`x` in `y`."
      ]
    },
    {
      "cell_type": "code",
      "execution_count": null,
      "metadata": {
        "id": "4noI1hCg-L_v"
      },
      "outputs": [],
      "source": [
        "a in b"
      ]
    },
    {
      "cell_type": "markdown",
      "metadata": {
        "id": "GIG0H4ht-L_v"
      },
      "source": [
        "**not in**: The not in operator checks if a value does not exist in a sequence."
      ]
    },
    {
      "cell_type": "markdown",
      "metadata": {
        "id": "D5QqXzBs-L_w"
      },
      "source": [
        "Returns `True` if a sequence with the specified value is not present in the object.\n",
        "`x` not in `y`."
      ]
    },
    {
      "cell_type": "code",
      "execution_count": null,
      "metadata": {
        "id": "_VuCg2GG-L_w"
      },
      "outputs": [],
      "source": [
        "a not in b"
      ]
    },
    {
      "cell_type": "markdown",
      "metadata": {
        "id": "3zEu6svv-L_w"
      },
      "source": [
        "Membership operators perform membership testing by checking if a value matches any element in the given sequence. They return a boolean value (True or False) based on the test result."
      ]
    }
  ],
  "metadata": {
    "kernelspec": {
      "display_name": "Python 3 (ipykernel)",
      "language": "python",
      "name": "python3"
    },
    "language_info": {
      "codemirror_mode": {
        "name": "ipython",
        "version": 3
      },
      "file_extension": ".py",
      "mimetype": "text/x-python",
      "name": "python",
      "nbconvert_exporter": "python",
      "pygments_lexer": "ipython3",
      "version": "3.11.5"
    },
    "colab": {
      "provenance": [],
      "include_colab_link": true
    }
  },
  "nbformat": 4,
  "nbformat_minor": 0
}